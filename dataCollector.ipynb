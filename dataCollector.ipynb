{
 "cells": [
  {
   "cell_type": "markdown",
   "metadata": {},
   "source": [
    "# Data Collector (Patentes)"
   ]
  },
  {
   "cell_type": "markdown",
   "metadata": {},
   "source": [
    "### Importando bibliotecas\n",
    "\n",
    "Bibliotecas que serão utilizadas no decorrer da aplicação. "
   ]
  },
  {
   "cell_type": "code",
   "execution_count": 3,
   "metadata": {},
   "outputs": [],
   "source": [
    "import time\n",
    "import os\n",
    "from bs4 import BeautifulSoup\n",
    "import requests"
   ]
  },
  {
   "cell_type": "markdown",
   "metadata": {},
   "source": [
    "### Variáveis Globais\n",
    "\n",
    "Definindo os parâmetros para a extração de dados"
   ]
  },
  {
   "cell_type": "code",
   "execution_count": 1,
   "metadata": {},
   "outputs": [],
   "source": [
    "# Variáveis globais para coletar dados do Google Patents\n",
    "htmls_folder = \"htmlsGooglePatents\"\n",
    "page_numbers = 2\n",
    "url = 'https://patents.google.com/?q=(\"Smart+mobility\")&country=US&language=ENGLISH&type=PATENT&num=100'\n",
    "patentsPDF_folder = 'patentsPDF'\n",
    "patentsHTML_folder = 'patentsHTML'"
   ]
  },
  {
   "cell_type": "markdown",
   "metadata": {},
   "source": [
    "### URL referente ao filtro das patentes\n",
    "\n",
    "Utilizando o webdriver(chrome) da bilbioteca selenium para acessar ao link referente ao Google Patents com um filtro específico, além de ser possível delimitar o filtro, também é possível delimitar a quantidade de páginas que serão baixadas."
   ]
  },
  {
   "cell_type": "code",
   "execution_count": 4,
   "metadata": {},
   "outputs": [],
   "source": [
    "from selenium import webdriver\n",
    "from selenium.webdriver.chrome.service import Service\n",
    "from selenium.common.exceptions import NoSuchElementException\n",
    "from selenium.common.exceptions import ElementNotInteractableException\n",
    "from selenium.webdriver.common.by import By\n",
    "\n",
    "service = Service()\n",
    "options = webdriver.ChromeOptions()\n",
    "driver = webdriver.Chrome(service=service, options=options)\n",
    "\n",
    "\n",
    "driver.get(url)\n",
    "\n",
    "for i in range(page_numbers):\n",
    "\n",
    "    time.sleep(3)\n",
    "    \n",
    "    html = driver.page_source\n",
    "\n",
    "    file_name = 'paginaPatentes' + time.strftime(\"%Y%m%d_%H%M%S\") + '.html'\n",
    "    file_path = os.path.join(htmls_folder, file_name)\n",
    "\n",
    "    with open(file_path, 'w', encoding='utf-8') as file:\n",
    "        file.write(html)\n",
    "\n",
    "    next_link = None\n",
    "    try:\n",
    "        next_link = driver.find_element(By.XPATH, '/html/body/search-app/search-results/search-ui/div/div/div/div/div/div[1]/div[6]/search-paging/state-modifier[3]/a/paper-icon-button/iron-icon')\n",
    "    except NoSuchElementException:\n",
    "        break\n",
    "\n",
    "    if next_link and next_link.is_displayed() and next_link.is_enabled():\n",
    "        try:\n",
    "            next_link.click()\n",
    "        except ElementNotInteractableException:\n",
    "            print(\"Elemento de próxima página não está interagível.\")\n",
    "            break\n",
    "driver.quit()"
   ]
  },
  {
   "cell_type": "markdown",
   "metadata": {},
   "source": [
    "### Coletando HTML e PDF de cada patente\n",
    "\n",
    "Utilazando o BeautifulSoup para conseguir extrair os PDF de cada patente."
   ]
  },
  {
   "cell_type": "code",
   "execution_count": 6,
   "metadata": {},
   "outputs": [],
   "source": [
    "file_name = []\n",
    "\n",
    "for filename in os.listdir(htmls_folder):\n",
    "    if filename.endswith('.html'):\n",
    "        filepath = os.path.join(htmls_folder, filename)\n",
    "        with open(filepath, 'r', encoding='utf-8') as file:\n",
    "            html_content = file.read()\n",
    "        \n",
    "        soup = BeautifulSoup(html_content, 'html.parser')\n",
    "        \n",
    "        spans = soup.find_all('span', {'data-proto': 'OPEN_PATENT_PDF'})\n",
    "        i = 0\n",
    "        for span in spans:\n",
    "            patent_link = 'https://patents.google.com/patent/' + span.text.strip()\n",
    "            patent_html_response = requests.get(patent_link)\n",
    "            if patent_html_response.status_code == 200:\n",
    "                patent_html_content = patent_html_response.text\n",
    "                file_name.append(span.text.strip())\n",
    "                patent_filename = file_name[i] + '.html'\n",
    "                patent_html_path = os.path.join(patentsHTML_folder, patent_filename)\n",
    "                if not os.path.exists(patent_html_path):  \n",
    "                    with open(patent_html_path, 'w', encoding='utf-8') as patent_html_file:\n",
    "                        patent_html_file.write(patent_html_content)\n",
    "            else:\n",
    "                print(f\"Erro ao baixar HTML da patente {patent_link}\")\n",
    "            i += 1\n",
    "            \n",
    "        linksPDF = soup.find_all('a', {'class': 'pdfLink'})\n",
    "        i = 0\n",
    "        for link in linksPDF:\n",
    "            pdf_url = link['href']\n",
    "            pdf_name = pdf_url.split('/')[-1]\n",
    "            pdf_path = os.path.join(patentsPDF_folder, file_name[i]+'.pdf')\n",
    "            if not os.path.exists(pdf_path):  \n",
    "                response = requests.get(pdf_url)\n",
    "                if response.status_code == 200:\n",
    "                    with open(pdf_path, 'wb') as pdf_file:\n",
    "                        pdf_file.write(response.content)\n",
    "                else:\n",
    "                    print(f\"Erro ao baixar o PDF {pdf_url}. Status code: {response.status_code}\")\n",
    "            i += 1"
   ]
  }
 ],
 "metadata": {
  "kernelspec": {
   "display_name": "Python 3",
   "language": "python",
   "name": "python3"
  },
  "language_info": {
   "codemirror_mode": {
    "name": "ipython",
    "version": 3
   },
   "file_extension": ".py",
   "mimetype": "text/x-python",
   "name": "python",
   "nbconvert_exporter": "python",
   "pygments_lexer": "ipython3",
   "version": "3.11.5"
  }
 },
 "nbformat": 4,
 "nbformat_minor": 2
}
